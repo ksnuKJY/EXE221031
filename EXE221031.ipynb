{
  "nbformat": 4,
  "nbformat_minor": 0,
  "metadata": {
    "colab": {
      "provenance": [],
      "authorship_tag": "ABX9TyMUw0o9ACYz5wxWVvzO+oxW",
      "include_colab_link": true
    },
    "kernelspec": {
      "name": "python3",
      "display_name": "Python 3"
    },
    "language_info": {
      "name": "python"
    }
  },
  "cells": [
    {
      "cell_type": "markdown",
      "metadata": {
        "id": "view-in-github",
        "colab_type": "text"
      },
      "source": [
        "<a href=\"https://colab.research.google.com/github/ksnuKJY/EXE221031/blob/main/EXE221031.ipynb\" target=\"_parent\"><img src=\"https://colab.research.google.com/assets/colab-badge.svg\" alt=\"Open In Colab\"/></a>"
      ]
    },
    {
      "cell_type": "code",
      "execution_count": 1,
      "metadata": {
        "colab": {
          "base_uri": "https://localhost:8080/"
        },
        "id": "27oY-OFo0nUV",
        "outputId": "396d6107-40b0-40af-be29-221a5e0b73a2"
      },
      "outputs": [
        {
          "output_type": "stream",
          "name": "stdout",
          "text": [
            "X의 값을 입력하시오.:5\n",
            "Y의 값을 입력하시오.:4\n",
            "x와 y의 합은:  9\n",
            "x와 y의 차는:  1\n",
            "x와 y의 곱은:  20\n",
            "x와 y의 평균은:  4.5\n",
            "x와 y의 큰수는:  5\n",
            "x와 y의 작은수는:  4\n"
          ]
        }
      ],
      "source": [
        "x=int(input(\"X의 값을 입력하시오.:\"))\n",
        "y=int(input(\"Y의 값을 입력하시오.:\"))\n",
        "\n",
        "print(\"x와 y의 합은: \",x+y)\n",
        "print(\"x와 y의 차는: \",x-y)\n",
        "print(\"x와 y의 곱은: \",x*y)\n",
        "print(\"x와 y의 평균은: \",(x+y)/2)\n",
        "print(\"x와 y의 큰수는: \",max(x,y))\n",
        "print(\"x와 y의 작은수는: \",min(x,y))"
      ]
    },
    {
      "cell_type": "code",
      "source": [
        "r=float(input(\"r값을 입력하시오.:\")) #변수 r의값을 사용자로부터 받는다. float으로\n",
        "h=float(input(\"h값을 입력하시오.:\")) #변수 h의값을 사용자로부터 받는다. float으로\n",
        "vol=3.141592*r**2*h\n",
        "print(\"원기둥의 부피는:\",vol,\"입니다.\")"
      ],
      "metadata": {
        "colab": {
          "base_uri": "https://localhost:8080/"
        },
        "id": "Vlk4VNjN2Yyc",
        "outputId": "6b28328f-e0a0-4e6a-c929-57f3a86b8bd8"
      },
      "execution_count": 3,
      "outputs": [
        {
          "output_type": "stream",
          "name": "stdout",
          "text": [
            "r값을 입력하시오.:10\n",
            "h값을 입력하시오.:100\n",
            "원기둥의 부피는: 31415.92 입니다.\n"
          ]
        }
      ]
    },
    {
      "cell_type": "code",
      "source": [
        "number=int(input(\"정수를 입력하시오.:\"))\n",
        "sum=0                  #변수 sum을 초기화 0으로 한다.\n",
        "sum=sum+number % 10\n",
        "number=number//10\n",
        "sum=sum+number % 10\n",
        "number=number//10\n",
        "sum=sum+number % 10\n",
        "number=number//10\n",
        "sum=sum+number % 10\n",
        "number=number//10\n",
        "print(\"자리수의 합:\",str(sum))"
      ],
      "metadata": {
        "colab": {
          "base_uri": "https://localhost:8080/"
        },
        "id": "humnZuGe6XV5",
        "outputId": "afdd7d28-028a-4245-827f-ed79829dfb03"
      },
      "execution_count": 7,
      "outputs": [
        {
          "output_type": "stream",
          "name": "stdout",
          "text": [
            "정수를 입력하시오.:1234\n",
            "자리수의 합: 10\n"
          ]
        }
      ]
    },
    {
      "cell_type": "code",
      "source": [
        "x1=int(input(\"x1의 값:\"))\n",
        "y1=int(input(\"y1의 값:\"))\n",
        "\n",
        "x2=int(input(\"x2의 값:\"))\n",
        "y2=int(input(\"y2의 값:\"))\n",
        "dist=((x2-x1)**2+(y2-y1)**2)**0.5\n",
        "print(\"두점 사이의 거리=\",dist,\"입니다.\")"
      ],
      "metadata": {
        "colab": {
          "base_uri": "https://localhost:8080/"
        },
        "id": "SZ8sMrDT8Nvj",
        "outputId": "8e608dfd-2e2c-4037-896a-53cbb1d02ab8"
      },
      "execution_count": 8,
      "outputs": [
        {
          "output_type": "stream",
          "name": "stdout",
          "text": [
            "x1의 값:0\n",
            "y1의 값:0\n",
            "x2의 값:100\n",
            "y2의 값:100\n",
            "두점 사이의 거리= 141.4213562373095 입니다.\n"
          ]
        }
      ]
    },
    {
      "cell_type": "code",
      "source": [
        "import time\n",
        "fsecond=time.time()\n",
        "total_sec=int(fsecond)\n",
        "total_min=total_sec//60\n",
        "minute=total_min%60\n",
        "total_hour=total_min//60\n",
        "hour=total_hour%24\n",
        "\n",
        "print(\"현재시각은 (영국 그리니치 표준시각):\",str(hour)+\"시\"+str(minute)+\"분\")"
      ],
      "metadata": {
        "colab": {
          "base_uri": "https://localhost:8080/"
        },
        "id": "7qXp6dYQCURv",
        "outputId": "2468d981-a60a-4e41-b70d-3f7552a44199"
      },
      "execution_count": 12,
      "outputs": [
        {
          "output_type": "stream",
          "name": "stdout",
          "text": [
            "현재시각은 (영국 그리니치 표준시각): 3시48분\n"
          ]
        }
      ]
    },
    {
      "cell_type": "code",
      "source": [],
      "metadata": {
        "id": "LkCOKu3CJers"
      },
      "execution_count": null,
      "outputs": []
    }
  ]
}